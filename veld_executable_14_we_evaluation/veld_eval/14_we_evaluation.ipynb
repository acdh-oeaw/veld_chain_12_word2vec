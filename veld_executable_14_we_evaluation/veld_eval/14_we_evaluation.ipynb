{
 "cells": [
  {
   "cell_type": "code",
   "execution_count": 14,
   "metadata": {},
   "outputs": [],
   "source": [
    "import os\n",
    "import gensim\n",
    "#model = gensim.models.Word2Vec.load(r\"C:\\Users\\dgrigoriou\\Downloads\\de_container\\veld_chain_12_word2vec\\veld_data_11_word2vec_models\\data\\word2vec.model_de\")\n",
    "\n",
    "\n",
    "# eval metadata\n",
    "EVAL_DATA_PATH = \"/veld/input/2/eval_data.yaml\"\n",
    "EVAL_SUMMARY_PATH = \"/veld/output/summary.yaml\"\n",
    "\n",
    "# model metadata \n",
    "# TODO: ADAPT THIS TO YOUR SETUP\n",
    "MODEL_PATH = None\n",
    "MODEL_ARCH = os.environ.get(\"MODEL_ARCH\")\n",
    "MODEL_ID = os.environ.get(\"MODEL_ID\")\n",
    "MODEL_INFO = None\n",
    "\n",
    "\n",
    "# TODO: ADAPT THIS TO YOUR SETUP\n",
    "class ModelLogicContainer:\n",
    "    \"\"\"\n",
    "    template class for all code dealing with model specifics\n",
    "    \"\"\"\n",
    "\n",
    "    def __init__(self):\n",
    "        \"\"\"\n",
    "        template method for any initialization logic. This method should not need any parameters.\n",
    "        \"\"\"\n",
    "        pass\n",
    "    \n",
    "    def cos_sim_of_words(self, w1, w2):\n",
    "        try:\n",
    "            # Calculate cosine similarity between the word vectors\n",
    "            similarity_score = model.wv.similarity(w1, w2)\n",
    "            return similarity_score\n",
    "        except KeyError:\n",
    "             # Handle the case where one or both words are not in the vocabulary\n",
    "            return None\n",
    "\n",
    "        \"\"\"\n",
    "        template method for calculating cosine similarity between two words\n",
    "\n",
    "        Parameters:\n",
    "        w1 (str): One of two words\n",
    "        w2 (str): One of two words\n",
    "\n",
    "        Returns:\n",
    "        float: cosine similarity, ranging from 0 to 1 \n",
    "        \"\"\"\n",
    "        \"\"\"\n",
    "        similarity_score = cos_sim_of_words(w1, w2)\n",
    "\n",
    "        if similarity_score is not None:\n",
    "        print(f\"Cosine Similarity between '{w1}' and '{w2}': {similarity_score:.4f}\")\n",
    "        else:\n",
    "        print(f\"At least one of the words '{w1}' or '{w2}' is not in the vocabulary.\")\n",
    "        \"\"\"\n",
    "pass"
   ]
  },
  {
   "cell_type": "code",
   "execution_count": 15,
   "metadata": {},
   "outputs": [
    {
     "data": {
      "text/plain": [
       "0.5210576"
      ]
     },
     "execution_count": 15,
     "metadata": {},
     "output_type": "execute_result"
    }
   ],
   "source": [
    "model_logic_container = ModelLogicContainer() \n",
    "model_logic_container.cos_sim_of_words(\"Frau\", \"Mann\") # which should print the cosine similarity "
   ]
  }
 ],
 "metadata": {
  "kernelspec": {
   "display_name": "auden2",
   "language": "python",
   "name": "python3"
  },
  "language_info": {
   "codemirror_mode": {
    "name": "ipython",
    "version": 3
   },
   "file_extension": ".py",
   "mimetype": "text/x-python",
   "name": "python",
   "nbconvert_exporter": "python",
   "pygments_lexer": "ipython3",
   "version": "3.11.5"
  }
 },
 "nbformat": 4,
 "nbformat_minor": 2
}
