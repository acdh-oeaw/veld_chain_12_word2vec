{
 "cells": [
  {
   "cell_type": "code",
   "execution_count": null,
   "metadata": {},
   "outputs": [],
   "source": [
    "import os\n",
    "\n",
    "\n",
    "# eval metadata\n",
    "EVAL_DATA_PATH = \"/veld/input/2/eval_data.yaml\"\n",
    "EVAL_SUMMARY_PATH = \"/veld/output/summary.yaml\"\n",
    "\n",
    "# model metadata \n",
    "# TODO: ADAPT THIS TO YOUR SETUP\n",
    "MODEL_PATH = None\n",
    "MODEL_ARCH = os.environ.get(\"MODEL_ARCH\")\n",
    "MODEL_ID = os.environ.get(\"MODEL_ID\")\n",
    "MODEL_INFO = None\n",
    "\n",
    "\n",
    "# TODO: ADAPT THIS TO YOUR SETUP\n",
    "class ModelLogicContainer:\n",
    "    \"\"\"\n",
    "    template class for all code dealing with model specifics\n",
    "    \"\"\"\n",
    "\n",
    "    def __init__(self):\n",
    "        \"\"\"\n",
    "        template method for any initialization logic. This method should not need any parameters.\n",
    "        \"\"\"\n",
    "        pass\n",
    "\n",
    "    def cos_sim_of_words(self, w1, w2):\n",
    "        try:\n",
    "            # Calculate cosine similarity between the word vectors\n",
    "            similarity_score = model.wv.similarity(w1, w2)\n",
    "            return similarity_score\n",
    "        except KeyError:\n",
    "             # Handle the case where one or both words are not in the vocabulary\n",
    "            return None\n",
    "\n",
    "        \"\"\"\n",
    "        template method for calculating cosine similarity between two words\n",
    "\n",
    "        Parameters:\n",
    "        w1 (str): One of two words\n",
    "        w2 (str): One of two words\n",
    "\n",
    "        Returns:\n",
    "        float: cosine similarity, ranging from 0 to 1 \n",
    "        \"\"\"\n",
    "    similarity_score = cos_sim_of_words(w1, w2)\n",
    "\n",
    "    if similarity_score is not None:\n",
    "        print(f\"Cosine Similarity between '{w1}' and '{w2}': {similarity_score:.4f}\")\n",
    "    else:\n",
    "        print(f\"At least one of the words '{w1}' or '{w2}' is not in the vocabulary.\")\n",
    "        \n",
    "pass"
   ]
  },
  {
   "cell_type": "code",
   "execution_count": null,
   "metadata": {},
   "outputs": [],
   "source": [
    "model_logic_container = ModelLogicContainer() \n",
    "model_logic_container.cos_sim_of_words(\"Frau\", \"Mann\") # which should print the cosine similarity "
   ]
  }
 ],
 "metadata": {
  "language_info": {
   "name": "python"
  }
 },
 "nbformat": 4,
 "nbformat_minor": 2
}
